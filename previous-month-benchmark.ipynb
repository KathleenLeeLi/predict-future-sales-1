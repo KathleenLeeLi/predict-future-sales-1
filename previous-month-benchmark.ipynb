{
  "cells": [
    {
      "metadata": {
        "_uuid": "27aa94d2e5802c66b008ca6606ede57234313760"
      },
      "cell_type": "markdown",
      "source": "<h1>This is my first benchmark, I am using the previous month benchmark method as mentioned in other kernels<h1>"
    },
    {
      "metadata": {
        "_uuid": "8f2839f25d086af736a60e9eeb907d3b93b6e0e5",
        "_cell_guid": "b1076dfc-b9ad-4769-8c92-a6c4dae69d19",
        "trusted": true
      },
      "cell_type": "code",
      "source": "# This Python 3 environment comes with many helpful analytics libraries installed\n# It is defined by the kaggle/python docker image: https://github.com/kaggle/docker-python\n# For example, here's several helpful packages to load in \n\nimport numpy as np # linear algebra\nimport pandas as pd # data processing, CSV file I/O (e.g. pd.read_csv)\n\n# Input data files are available in the \"../input/\" directory.\n# For example, running this (by clicking run or pressing Shift+Enter) will list the files in the input directory\n\nimport os\nprint(os.listdir(\"../input\"))\n\n# Any results you write to the current directory are saved as output.",
      "execution_count": 1,
      "outputs": [
        {
          "output_type": "stream",
          "text": "['test.csv.gz', 'sample_submission.csv.gz', 'items.csv', 'item_categories.csv', 'shops.csv', 'sales_train.csv.gz']\n",
          "name": "stdout"
        }
      ]
    },
    {
      "metadata": {
        "_cell_guid": "79c7e3d0-c299-4dcb-8224-4455121ee9b0",
        "_uuid": "d629ff2d2480ee46fbb7e2d37f6b5fab8052498a",
        "trusted": true
      },
      "cell_type": "code",
      "source": "DATA_FOLDER = '../input'\n\ntransactions    = pd.read_csv(os.path.join(DATA_FOLDER, 'sales_train.csv.gz'))\nitems           = pd.read_csv(os.path.join(DATA_FOLDER, 'items.csv'))\nitem_categories = pd.read_csv(os.path.join(DATA_FOLDER, 'item_categories.csv'))\nshops           = pd.read_csv(os.path.join(DATA_FOLDER, 'shops.csv'))\ntest            = pd.read_csv(os.path.join(DATA_FOLDER, 'test.csv.gz'))",
      "execution_count": 2,
      "outputs": []
    },
    {
      "metadata": {
        "trusted": true,
        "_uuid": "79557cebe5274006587c68813db7819851158921"
      },
      "cell_type": "code",
      "source": "prev_month = transactions[transactions.date_block_num == 33]",
      "execution_count": 3,
      "outputs": []
    },
    {
      "metadata": {
        "trusted": true,
        "_uuid": "ab7c24134a4c076b915d49d7777e40d4d9ed046c"
      },
      "cell_type": "code",
      "source": "prev_month_benchmark = prev_month.groupby([\"item_id\",\"shop_id\"]).sum().item_cnt_day",
      "execution_count": 67,
      "outputs": []
    },
    {
      "metadata": {
        "trusted": true,
        "_uuid": "3d9f4d97519be166239f2bade065e56086609f81"
      },
      "cell_type": "code",
      "source": "prev_month_benchmark",
      "execution_count": 68,
      "outputs": [
        {
          "output_type": "execute_result",
          "execution_count": 68,
          "data": {
            "text/plain": "item_id  shop_id\n30       31          1.0\n31       2           1.0\n         6           2.0\n         18          1.0\n         21          1.0\n         25          1.0\n         28          1.0\n         35          2.0\n         37          1.0\n         42          2.0\n         45          2.0\n         47          1.0\n         57          1.0\n         58          1.0\n         59          1.0\n32       4           1.0\n         6           1.0\n         7           3.0\n         14          1.0\n         19          2.0\n         21          1.0\n         24          1.0\n         25          2.0\n         28          1.0\n         31          3.0\n         39          1.0\n         42          2.0\n         44          1.0\n         57          1.0\n         58          1.0\n                    ... \n22163    42          1.0\n         48          1.0\n         52          1.0\n         53          1.0\n         57          2.0\n         58          1.0\n22164    3           1.0\n         5           1.0\n         18          1.0\n         21          3.0\n         25          2.0\n         31          1.0\n         34          1.0\n         42          3.0\n         46          1.0\n         52          1.0\n22166    55         11.0\n22167    6           1.0\n         10          1.0\n         12          7.0\n         18          1.0\n         21          1.0\n         22         14.0\n         25          3.0\n         26          1.0\n         28          1.0\n         37          1.0\n         42          4.0\n         47          1.0\n         50          1.0\nName: item_cnt_day, Length: 31531, dtype: float64"
          },
          "metadata": {}
        }
      ]
    },
    {
      "metadata": {
        "trusted": true,
        "_uuid": "71a3e8d71142f9f0bf5d9eecfb9bab82b0abac9a"
      },
      "cell_type": "code",
      "source": "def get_answer(row):\n    \"\"\"given shop_id and item_id get prev_month_benchmark value\"\"\"\n    shop_id, item_id = row[\"shop_id\"], row[\"item_id\"]\n    res = 0\n    try: res = prev_month_benchmark.loc[item_id].loc[shop_id]\n    except: pass\n    return res",
      "execution_count": 34,
      "outputs": []
    },
    {
      "metadata": {
        "trusted": true,
        "_uuid": "e0c816469e78c0f389ca6a07a631e582e91842fe"
      },
      "cell_type": "code",
      "source": "test[\"item_cnt_month\"] = test.apply(lambda row: get_answer(row), axis=1).fillna(0).clip(0, 20)",
      "execution_count": 50,
      "outputs": []
    },
    {
      "metadata": {
        "trusted": true,
        "_uuid": "838f3b0997e3bffb1136c39df0df42303f0c5005"
      },
      "cell_type": "code",
      "source": "result = test.drop([\"shop_id\", \"item_id\"], axis=1)",
      "execution_count": 57,
      "outputs": []
    },
    {
      "metadata": {
        "trusted": true,
        "_uuid": "c6764aab4437a1c12a2cc2443cd570ca444298df"
      },
      "cell_type": "code",
      "source": "result.to_csv(\"first_submission.csv\", index=False)",
      "execution_count": 59,
      "outputs": []
    },
    {
      "metadata": {
        "trusted": true,
        "_uuid": "ca529d30ab9e9f3e588b3796d48f225c55a629b5"
      },
      "cell_type": "code",
      "source": "",
      "execution_count": null,
      "outputs": []
    }
  ],
  "metadata": {
    "kernelspec": {
      "display_name": "Python 3",
      "language": "python",
      "name": "python3"
    },
    "language_info": {
      "name": "python",
      "version": "3.6.6",
      "mimetype": "text/x-python",
      "codemirror_mode": {
        "name": "ipython",
        "version": 3
      },
      "pygments_lexer": "ipython3",
      "nbconvert_exporter": "python",
      "file_extension": ".py"
    }
  },
  "nbformat": 4,
  "nbformat_minor": 1
}