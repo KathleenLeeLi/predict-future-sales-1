{
  "cells": [
    {
      "metadata": {
        "_uuid": "27aa94d2e5802c66b008ca6606ede57234313760"
      },
      "cell_type": "markdown",
      "source": "<h1>This is my second benchmark, I am using the previous months average to predict the next month sales, also pretty simple concept for benchmarking<h1>"
    },
    {
      "metadata": {
        "_uuid": "8f2839f25d086af736a60e9eeb907d3b93b6e0e5",
        "_cell_guid": "b1076dfc-b9ad-4769-8c92-a6c4dae69d19",
        "trusted": true
      },
      "cell_type": "code",
      "source": "# This Python 3 environment comes with many helpful analytics libraries installed\n# It is defined by the kaggle/python docker image: https://github.com/kaggle/docker-python\n# For example, here's several helpful packages to load in \n\nimport numpy as np # linear algebra\nimport pandas as pd # data processing, CSV file I/O (e.g. pd.read_csv)\nfrom matplotlib import pyplot as plt\n\n# Input data files are available in the \"../input/\" directory.\n# For example, running this (by clicking run or pressing Shift+Enter) will list the files in the input directory\n\nimport os\nprint(os.listdir(\"../input\"))\n\n# Any results you write to the current directory are saved as output.",
      "execution_count": 94,
      "outputs": [
        {
          "output_type": "stream",
          "text": "['test.csv.gz', 'sample_submission.csv.gz', 'items.csv', 'item_categories.csv', 'shops.csv', 'sales_train.csv.gz']\n",
          "name": "stdout"
        }
      ]
    },
    {
      "metadata": {
        "_cell_guid": "79c7e3d0-c299-4dcb-8224-4455121ee9b0",
        "_uuid": "d629ff2d2480ee46fbb7e2d37f6b5fab8052498a",
        "trusted": true
      },
      "cell_type": "code",
      "source": "DATA_FOLDER = '../input'\n\ntransactions    = pd.read_csv(os.path.join(DATA_FOLDER, 'sales_train.csv.gz'))\nitems           = pd.read_csv(os.path.join(DATA_FOLDER, 'items.csv'))\nitem_categories = pd.read_csv(os.path.join(DATA_FOLDER, 'item_categories.csv'))\nshops           = pd.read_csv(os.path.join(DATA_FOLDER, 'shops.csv'))\ntest            = pd.read_csv(os.path.join(DATA_FOLDER, 'test.csv.gz'))",
      "execution_count": 95,
      "outputs": []
    },
    {
      "metadata": {
        "_uuid": "119e20284c20ca3730c41800da4ad4327119d7f7"
      },
      "cell_type": "markdown",
      "source": "here we calculate an average of the [shop_id, item_id] -> sales prediction ***averaged*** on every single months in the dataset"
    },
    {
      "metadata": {
        "trusted": true,
        "_uuid": "dcf3e88a9f2919eaebf5a469a9690fcbd177d0d1"
      },
      "cell_type": "code",
      "source": "transactions_by_month = transactions[transactions.date_block_num > 31].groupby([\"date_block_num\",\"item_id\",\"shop_id\"], as_index=False).item_cnt_day.sum().rename(columns={\"item_cnt_day\": \"item_cnt_month\"})",
      "execution_count": 107,
      "outputs": []
    },
    {
      "metadata": {
        "trusted": true,
        "_uuid": "d2c38b8f25657b319711fb14530068b9900721d4"
      },
      "cell_type": "code",
      "source": "averaged_item_cnt_month = transactions_by_month.groupby([\"item_id\",\"shop_id\"], as_index=False).item_cnt_month.mean()",
      "execution_count": 108,
      "outputs": []
    },
    {
      "metadata": {
        "trusted": true,
        "_uuid": "99886de03c55b6f7f318907a4127cf80eedb45cc"
      },
      "cell_type": "code",
      "source": "averaged_item_cnt_month = test.merge(averaged_item_cnt_month, on = [\"shop_id\", \"item_id\"], how=\"left\")[[\"ID\",\"item_cnt_month\"]]\naveraged_item_cnt_month[\"item_cnt_month\"] = averaged_item_cnt_month.item_cnt_month.fillna(0).clip(0, 20)",
      "execution_count": 109,
      "outputs": []
    },
    {
      "metadata": {
        "_uuid": "ef29ab5324538256861ea310424f565e7e50570e"
      },
      "cell_type": "markdown",
      "source": "here we calculated only the last month benchmark for the [shop_id, item_id] -> sales prediction"
    },
    {
      "metadata": {
        "trusted": true,
        "_uuid": "79557cebe5274006587c68813db7819851158921"
      },
      "cell_type": "code",
      "source": "prev_month = transactions[transactions.date_block_num == 33]",
      "execution_count": 99,
      "outputs": []
    },
    {
      "metadata": {
        "trusted": true,
        "_uuid": "ab7c24134a4c076b915d49d7777e40d4d9ed046c"
      },
      "cell_type": "code",
      "source": "prev_month_benchmark = prev_month.groupby([\"item_id\",\"shop_id\"], as_index=False).item_cnt_day.sum()",
      "execution_count": 100,
      "outputs": []
    },
    {
      "metadata": {
        "trusted": true,
        "_uuid": "3ab8219ba8e5ab03a9c58036c488791e85943413"
      },
      "cell_type": "code",
      "source": "item_cnt_prev_month = test.merge(prev_month_benchmark, on = [\"shop_id\", \"item_id\"], how=\"left\")[[\"ID\",\"item_cnt_day\"]]\nitem_cnt_prev_month[\"item_cnt_day\"] = item_cnt_prev_month.item_cnt_day.fillna(0).clip(0, 20)",
      "execution_count": 101,
      "outputs": []
    },
    {
      "metadata": {
        "_uuid": "a83d6a4e2e37fabac8b3bcc0db69d90000f7d507"
      },
      "cell_type": "markdown",
      "source": "now is interesting to analyse the difference between the two:"
    },
    {
      "metadata": {
        "trusted": true,
        "_uuid": "38dad7617e675759b81102075b269c172251bfd3"
      },
      "cell_type": "code",
      "source": " item_cnt_prev_month.head()",
      "execution_count": 102,
      "outputs": [
        {
          "output_type": "execute_result",
          "execution_count": 102,
          "data": {
            "text/plain": "   ID  item_cnt_day\n0   0           0.0\n1   1           0.0\n2   2           1.0\n3   3           0.0\n4   4           0.0",
            "text/html": "<div>\n<style scoped>\n    .dataframe tbody tr th:only-of-type {\n        vertical-align: middle;\n    }\n\n    .dataframe tbody tr th {\n        vertical-align: top;\n    }\n\n    .dataframe thead th {\n        text-align: right;\n    }\n</style>\n<table border=\"1\" class=\"dataframe\">\n  <thead>\n    <tr style=\"text-align: right;\">\n      <th></th>\n      <th>ID</th>\n      <th>item_cnt_day</th>\n    </tr>\n  </thead>\n  <tbody>\n    <tr>\n      <th>0</th>\n      <td>0</td>\n      <td>0.0</td>\n    </tr>\n    <tr>\n      <th>1</th>\n      <td>1</td>\n      <td>0.0</td>\n    </tr>\n    <tr>\n      <th>2</th>\n      <td>2</td>\n      <td>1.0</td>\n    </tr>\n    <tr>\n      <th>3</th>\n      <td>3</td>\n      <td>0.0</td>\n    </tr>\n    <tr>\n      <th>4</th>\n      <td>4</td>\n      <td>0.0</td>\n    </tr>\n  </tbody>\n</table>\n</div>"
          },
          "metadata": {}
        }
      ]
    },
    {
      "metadata": {
        "trusted": true,
        "_uuid": "c467bfbe3a2c03b365ad8ca724fc838d57f1b6e9"
      },
      "cell_type": "code",
      "source": "averaged_item_cnt_month.head()",
      "execution_count": 103,
      "outputs": [
        {
          "output_type": "execute_result",
          "execution_count": 103,
          "data": {
            "text/plain": "   ID  item_cnt_month\n0   0        1.444444\n1   1        0.000000\n2   2        2.000000\n3   3        1.000000\n4   4        0.000000",
            "text/html": "<div>\n<style scoped>\n    .dataframe tbody tr th:only-of-type {\n        vertical-align: middle;\n    }\n\n    .dataframe tbody tr th {\n        vertical-align: top;\n    }\n\n    .dataframe thead th {\n        text-align: right;\n    }\n</style>\n<table border=\"1\" class=\"dataframe\">\n  <thead>\n    <tr style=\"text-align: right;\">\n      <th></th>\n      <th>ID</th>\n      <th>item_cnt_month</th>\n    </tr>\n  </thead>\n  <tbody>\n    <tr>\n      <th>0</th>\n      <td>0</td>\n      <td>1.444444</td>\n    </tr>\n    <tr>\n      <th>1</th>\n      <td>1</td>\n      <td>0.000000</td>\n    </tr>\n    <tr>\n      <th>2</th>\n      <td>2</td>\n      <td>2.000000</td>\n    </tr>\n    <tr>\n      <th>3</th>\n      <td>3</td>\n      <td>1.000000</td>\n    </tr>\n    <tr>\n      <th>4</th>\n      <td>4</td>\n      <td>0.000000</td>\n    </tr>\n  </tbody>\n</table>\n</div>"
          },
          "metadata": {}
        }
      ]
    },
    {
      "metadata": {
        "_uuid": "187ef640a5dd5d7245c7a5cae513688d4563af05"
      },
      "cell_type": "markdown",
      "source": "interestingly enough, in the second prediction dataset we have way more predictions (check the ID columns):\nin the histogram below you see in orange the previous month prediction and in blue the averaged predictions"
    },
    {
      "metadata": {
        "trusted": true,
        "_uuid": "c902a968270214b2345e6e052ed03a654efae10f"
      },
      "cell_type": "code",
      "source": "plt.bar(averaged_item_cnt_month.head(40)[\"ID\"],averaged_item_cnt_month.head(40)[\"item_cnt_month\"])\nplt.bar(item_cnt_prev_month.head(40)[\"ID\"],item_cnt_prev_month.head(40)[\"item_cnt_day\"])\n",
      "execution_count": 110,
      "outputs": [
        {
          "output_type": "execute_result",
          "execution_count": 110,
          "data": {
            "text/plain": "<BarContainer object of 40 artists>"
          },
          "metadata": {}
        },
        {
          "output_type": "display_data",
          "data": {
            "text/plain": "<Figure size 432x288 with 1 Axes>",
            "image/png": "[encoded data removed]"
          },
          "metadata": {}
        }
      ]
    },
    {
      "metadata": {
        "trusted": true,
        "_uuid": "b550e5529ae7dd0736c9bfed77820374318b8233"
      },
      "cell_type": "code",
      "source": "averaged_item_cnt_month.to_csv(\"second_benchmark_submission.csv\", index=False)",
      "execution_count": 106,
      "outputs": []
    },
    {
      "metadata": {
        "_uuid": "5cd721b437eb82edf02e2907b9934d73568a620f"
      },
      "cell_type": "markdown",
      "source": "***this second benchmark scores lower than the first benchmark***"
    }
  ],
  "metadata": {
    "kernelspec": {
      "display_name": "Python 3",
      "language": "python",
      "name": "python3"
    },
    "language_info": {
      "name": "python",
      "version": "3.6.6",
      "mimetype": "text/x-python",
      "codemirror_mode": {
        "name": "ipython",
        "version": 3
      },
      "pygments_lexer": "ipython3",
      "nbconvert_exporter": "python",
      "file_extension": ".py"
    }
  },
  "nbformat": 4,
  "nbformat_minor": 1
}