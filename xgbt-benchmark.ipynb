{
  "cells": [
    {
      "metadata": {
        "_uuid": "047e07f83ff689268a216fdf344aee0f69db7ecd"
      },
      "cell_type": "markdown",
      "source": "XGBoost benchmark"
    },
    {
      "metadata": {
        "_uuid": "8f2839f25d086af736a60e9eeb907d3b93b6e0e5",
        "_cell_guid": "b1076dfc-b9ad-4769-8c92-a6c4dae69d19",
        "trusted": true
      },
      "cell_type": "code",
      "source": "# This Python 3 environment comes with many helpful analytics libraries installed\n# It is defined by the kaggle/python docker image: https://github.com/kaggle/docker-python\n# For example, here's several helpful packages to load in \n\nimport numpy as np # linear algebra\nimport pandas as pd # data processing, CSV file I/O (e.g. pd.read_csv)\n\n# Input data files are available in the \"../input/\" directory.\n# For example, running this (by clicking run or pressing Shift+Enter) will list the files in the input directory\n\nimport os\nprint(os.listdir(\"../input\"))\n\n# Any results you write to the current directory are saved as output.",
      "execution_count": null,
      "outputs": []
    },
    {
      "metadata": {
        "_cell_guid": "79c7e3d0-c299-4dcb-8224-4455121ee9b0",
        "_uuid": "d629ff2d2480ee46fbb7e2d37f6b5fab8052498a",
        "trusted": true
      },
      "cell_type": "code",
      "source": "DATA_FOLDER = '../input'\ntransactions    = pd.read_csv(os.path.join(DATA_FOLDER, 'sales_train.csv.gz'))\nitems           = pd.read_csv(os.path.join(DATA_FOLDER, 'items.csv'))\nitem_categories = pd.read_csv(os.path.join(DATA_FOLDER, 'item_categories.csv'))\nshops           = pd.read_csv(os.path.join(DATA_FOLDER, 'shops.csv'))\ntest            = pd.read_csv(os.path.join(DATA_FOLDER, 'test.csv.gz'))",
      "execution_count": null,
      "outputs": []
    },
    {
      "metadata": {
        "trusted": true,
        "_uuid": "c5f0b06f007e136a69c2c2c08337a4ea8666f371"
      },
      "cell_type": "code",
      "source": "train_df = test\ntrain_df['item_category_id'] = train_df[\"item_id\"].map(items['item_category_id'])",
      "execution_count": null,
      "outputs": []
    },
    {
      "metadata": {
        "trusted": true,
        "_uuid": "3ac5c8d2bff700809914e1bd607f8e1d922a402a"
      },
      "cell_type": "code",
      "source": "for x in range(34):\n    target_df = transactions[transactions['date_block_num'] == x].groupby(['shop_id', 'item_id'], as_index=False).item_cnt_day.sum().rename(columns={\"item_cnt_day\": x})\n    train_df = train_df.merge(target_df, how=\"left\", on=['shop_id', 'item_id']).fillna(0.0)",
      "execution_count": null,
      "outputs": []
    },
    {
      "metadata": {
        "trusted": true,
        "_uuid": "219f27afeee6a8aa6952617d3cfaa57d783d0679"
      },
      "cell_type": "code",
      "source": "from matplotlib import pyplot as plt",
      "execution_count": null,
      "outputs": []
    },
    {
      "metadata": {
        "trusted": true,
        "_uuid": "71698f12dd7c1ca89f127f1b99836f2bc15ae060"
      },
      "cell_type": "code",
      "source": "plt.figure(figsize=(15,10))\nplt.plot(train_df.sum()[4:])\nplt.axvline(x=33, color='r')\nplt.axvline(x=33-9, color='g')\nplt.axvline(x=33-12, color='r')\nplt.axvline(x=33-21, color='g')\nplt.axvline(x=33-24, color='r')\nplt.axvline(x=0, color='g')",
      "execution_count": null,
      "outputs": []
    },
    {
      "metadata": {
        "_uuid": "2ade4e7b926917c0e1dc0420392bc14928669d1d"
      },
      "cell_type": "markdown",
      "source": "we can clearly see some seasonality here, the green line is START of training set, red line is END of training set. The prediction is red + 1.\nLet's modify the df accordingly"
    },
    {
      "metadata": {
        "trusted": true,
        "_uuid": "40f56d1385ba6da1bc8740757a07d2118b79bd4a"
      },
      "cell_type": "code",
      "source": "train_df = test\ntrain_df['item_category_id'] = train_df[\"item_id\"].map(items['item_category_id'])",
      "execution_count": null,
      "outputs": []
    },
    {
      "metadata": {
        "trusted": true,
        "_uuid": "6d5b60973e14675f7b45d2183292d8af8b7634d1"
      },
      "cell_type": "code",
      "source": "windowsize = 9\nk = 12\nfor x in range(k, k + windowsize + 2):\n    target_df = transactions[transactions['date_block_num'] == x].groupby(['shop_id', 'item_id'], as_index=False).item_cnt_day.sum().rename(columns={\"item_cnt_day\": x - k})\n    train_df = train_df.merge(target_df, how=\"left\", on=['shop_id', 'item_id']).fillna(0.0)",
      "execution_count": null,
      "outputs": []
    },
    {
      "metadata": {
        "trusted": true,
        "_uuid": "e94f2682ced37cb7781cd90560dc8f0f7601062e"
      },
      "cell_type": "code",
      "source": "train_df.head()",
      "execution_count": null,
      "outputs": []
    },
    {
      "metadata": {
        "trusted": true,
        "_uuid": "3a00f2034e928deb456898ab00cc08492b58fc26"
      },
      "cell_type": "code",
      "source": "plt.plot(train_df.sum()[4:])\nplt.axvline(x=9, color='r')\nplt.axvline(x=0, color='g')",
      "execution_count": null,
      "outputs": []
    },
    {
      "metadata": {
        "trusted": true,
        "_uuid": "40f56d1385ba6da1bc8740757a07d2118b79bd4a"
      },
      "cell_type": "code",
      "source": "train_df2 = test\ntrain_df2['item_category_id'] = train_df2[\"item_id\"].map(items['item_category_id'])",
      "execution_count": null,
      "outputs": []
    },
    {
      "metadata": {
        "trusted": true,
        "_uuid": "6d5b60973e14675f7b45d2183292d8af8b7634d1"
      },
      "cell_type": "code",
      "source": "windowsize = 9\nk = 0\nfor x in range(k, k + windowsize + 2):\n    target_df = transactions[transactions['date_block_num'] == x].groupby(['shop_id', 'item_id'], as_index=False).item_cnt_day.sum().rename(columns={\"item_cnt_day\": x - k})\n    train_df2 = train_df2.merge(target_df, how=\"left\", on=['shop_id', 'item_id']).fillna(0.0)",
      "execution_count": null,
      "outputs": []
    },
    {
      "metadata": {
        "trusted": true,
        "_uuid": "3528e1f78f8f4216d76cf1c3d9d8d49eab837239"
      },
      "cell_type": "code",
      "source": "train_df2.head()",
      "execution_count": null,
      "outputs": []
    },
    {
      "metadata": {
        "trusted": true,
        "_uuid": "31ea607c9b6f7a328ff714de61d4595961d527ed"
      },
      "cell_type": "code",
      "source": "plt.plot(train_df2.sum()[4:])\nplt.axvline(x=9, color='r')\nplt.axvline(x=0, color='g')",
      "execution_count": null,
      "outputs": []
    },
    {
      "metadata": {
        "trusted": true,
        "_uuid": "a4173ba39662561561ffecb6ceb104f9adeb2f95"
      },
      "cell_type": "code",
      "source": "train_df = pd.concat([train_df, train_df2])",
      "execution_count": null,
      "outputs": []
    },
    {
      "metadata": {
        "_uuid": "6b908a0a7d9bdc6e448c74921ce9260f145e5dfd"
      },
      "cell_type": "markdown",
      "source": "here we isolated the period previous to the prediction"
    },
    {
      "metadata": {
        "_uuid": "ecb33dccf8af1a72a3267faa298db38fba35cad7"
      },
      "cell_type": "markdown",
      "source": "<h1>Modelling"
    },
    {
      "metadata": {
        "trusted": true,
        "_uuid": "0c41cbe78ef21e00f9a0938a727831f48fbae585"
      },
      "cell_type": "code",
      "source": "import xgboost as xgb",
      "execution_count": null,
      "outputs": []
    },
    {
      "metadata": {
        "trusted": true,
        "_uuid": "5203118bcb99add4bba6db8719135bda0fa9a8da"
      },
      "cell_type": "code",
      "source": "xgbtrain = xgb.DMatrix(train_df.iloc[:, (train_df.columns != 'ID') & (train_df.columns != 10)].values, train_df.iloc[:, (train_df.columns == 10)].values)",
      "execution_count": null,
      "outputs": []
    },
    {
      "metadata": {
        "trusted": true,
        "_uuid": "73ea18bdaf3e84ccc220975ff9f64bdaeead0d82"
      },
      "cell_type": "code",
      "source": "param = {'max_depth':10, \n         'subsample':1,\n         'min_child_weight':0.5,\n         'eta':0.3, \n         'num_round':1000, \n         'seed':1,\n         'silent':0,\n         'eval_metric':'rmse'}",
      "execution_count": null,
      "outputs": []
    },
    {
      "metadata": {
        "trusted": true,
        "_uuid": "213d5e8e9bfc09c69b2e31749db4f10e30ea8a60"
      },
      "cell_type": "code",
      "source": "bst = xgb.train(param, xgbtrain)",
      "execution_count": null,
      "outputs": []
    },
    {
      "metadata": {
        "trusted": true,
        "_uuid": "1e6803aff54a1a5e8819b481af43d063a16d4063"
      },
      "cell_type": "code",
      "source": "xgb.plot_importance(bst)",
      "execution_count": null,
      "outputs": []
    },
    {
      "metadata": {
        "_uuid": "0a40d3422e08ce24e4a63fbf53372f7c965902f4"
      },
      "cell_type": "markdown",
      "source": "<h1>Predictions"
    },
    {
      "metadata": {
        "trusted": true,
        "_uuid": "e7bf52bf19e987a9483ca370963558fd7ecd8bd1"
      },
      "cell_type": "code",
      "source": "predict_df = test\npredict_df['item_category_id'] = predict_df[\"item_id\"].map(items['item_category_id'])",
      "execution_count": null,
      "outputs": []
    },
    {
      "metadata": {
        "trusted": true,
        "_uuid": "4e7137870cb70e0eaf493b943492ad05db6038e7"
      },
      "cell_type": "code",
      "source": "windowsize = 9\nk = 24\nfor x in range(k, k + windowsize + 1):\n    target_df = transactions[transactions['date_block_num'] == x].groupby(['shop_id', 'item_id'], as_index=False).item_cnt_day.sum().rename(columns={\"item_cnt_day\": x - k})\n    predict_df = predict_df.merge(target_df, how=\"left\", on=['shop_id', 'item_id']).fillna(0.0)",
      "execution_count": null,
      "outputs": []
    },
    {
      "metadata": {
        "trusted": true,
        "_uuid": "89c262fd86a0dc37843d9302d6c1b1f3c99094c7"
      },
      "cell_type": "code",
      "source": "plt.plot(predict_df.sum()[4:])\nplt.axvline(x=9, color='r')\nplt.axvline(x=0, color='g')",
      "execution_count": null,
      "outputs": []
    },
    {
      "metadata": {
        "trusted": true,
        "_uuid": "7d4c1d998470852d775e01b82e32134207b33bce"
      },
      "cell_type": "code",
      "source": "predict_df.head()",
      "execution_count": null,
      "outputs": []
    },
    {
      "metadata": {
        "trusted": true,
        "_uuid": "d26a60a2e06fe7b042d1a803369bcc2f42de03c0"
      },
      "cell_type": "code",
      "source": "xgbpredict = xgb.DMatrix(predict_df.iloc[: , (predict_df.columns != 'ID')].values)",
      "execution_count": null,
      "outputs": []
    },
    {
      "metadata": {
        "trusted": true,
        "_uuid": "dadd00e175517e9fdb7ec208f2eb508db95ff0c6"
      },
      "cell_type": "code",
      "source": "pred = bst.predict(xgbpredict)",
      "execution_count": null,
      "outputs": []
    },
    {
      "metadata": {
        "trusted": true,
        "_uuid": "d6c83b7d56614ee3ce4fc2473ff6a8c32affcda8"
      },
      "cell_type": "code",
      "source": "plt.plot(np.append(np.array(predict_df.sum()[4:]), pred.sum()))\nplt.axvline(x=9, color='r')\nplt.axvline(x=0, color='g')",
      "execution_count": null,
      "outputs": []
    },
    {
      "metadata": {
        "trusted": true,
        "_uuid": "6dc014e4a294b7a728c36ac5a553edcf51d4aa3c"
      },
      "cell_type": "code",
      "source": "pred.sum()",
      "execution_count": null,
      "outputs": []
    },
    {
      "metadata": {
        "trusted": true,
        "_uuid": "d538f5d9b13ac2b88d17e56bf6ddd4ca39c9ce92"
      },
      "cell_type": "code",
      "source": "pred = pred.clip(0, 20)",
      "execution_count": null,
      "outputs": []
    },
    {
      "metadata": {
        "trusted": true,
        "_uuid": "4e5bd714fbf3d2acf9120a4248a5ef5c9bd9e1c4"
      },
      "cell_type": "code",
      "source": "sub_df = pd.DataFrame({'ID':predict_df.ID,'item_cnt_month': pred })",
      "execution_count": null,
      "outputs": []
    },
    {
      "metadata": {
        "trusted": true,
        "_uuid": "5688a335fe19c080c95cec59e25603ab85e25a5a"
      },
      "cell_type": "code",
      "source": "sub_df.describe()",
      "execution_count": null,
      "outputs": []
    },
    {
      "metadata": {
        "trusted": true,
        "_uuid": "d35cd6ef38efdaad0642e000afcf64850ac38ddd"
      },
      "cell_type": "code",
      "source": "sub_df.to_csv('xg_boost4_cats.csv',index=False)",
      "execution_count": null,
      "outputs": []
    },
    {
      "metadata": {
        "trusted": true,
        "_uuid": "7d9e1a6419e0265c0309f45cf255190459eee715"
      },
      "cell_type": "code",
      "source": "",
      "execution_count": null,
      "outputs": []
    }
  ],
  "metadata": {
    "kernelspec": {
      "display_name": "Python 3",
      "language": "python",
      "name": "python3"
    },
    "language_info": {
      "name": "python",
      "version": "3.6.6",
      "mimetype": "text/x-python",
      "codemirror_mode": {
        "name": "ipython",
        "version": 3
      },
      "pygments_lexer": "ipython3",
      "nbconvert_exporter": "python",
      "file_extension": ".py"
    }
  },
  "nbformat": 4,
  "nbformat_minor": 1
}